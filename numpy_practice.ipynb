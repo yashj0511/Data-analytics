{
  "nbformat": 4,
  "nbformat_minor": 0,
  "metadata": {
    "colab": {
      "provenance": []
    },
    "kernelspec": {
      "name": "python3",
      "display_name": "Python 3"
    },
    "language_info": {
      "name": "python"
    }
  },
  "cells": [
    {
      "cell_type": "code",
      "execution_count": 2,
      "metadata": {
        "colab": {
          "base_uri": "https://localhost:8080/"
        },
        "id": "iSpJ0ABuvd9B",
        "outputId": "c844b80b-8a2d-4616-a0aa-5564ed67a615"
      },
      "outputs": [
        {
          "output_type": "stream",
          "name": "stdout",
          "text": [
            "Requirement already satisfied: numpy in /usr/local/lib/python3.11/dist-packages (2.0.2)\n"
          ]
        }
      ],
      "source": [
        "pip install  numpy"
      ]
    },
    {
      "cell_type": "code",
      "source": [
        "import numpy as np"
      ],
      "metadata": {
        "id": "CXBcSyrJvf0r"
      },
      "execution_count": 3,
      "outputs": []
    },
    {
      "cell_type": "code",
      "source": [
        "arr1_id=np.array([1,2,3,4,5])\n",
        "print(\"1 d array \",arr1_id)\n"
      ],
      "metadata": {
        "colab": {
          "base_uri": "https://localhost:8080/"
        },
        "id": "AA2G5LmDvjOy",
        "outputId": "24953215-8f4e-4513-e8a5-39f5b8e090de"
      },
      "execution_count": null,
      "outputs": [
        {
          "output_type": "stream",
          "name": "stdout",
          "text": [
            "1 d array  [1 2 3 4 5]\n"
          ]
        }
      ]
    },
    {
      "cell_type": "code",
      "source": [
        "arr2_id=np.array([[1,2,3,4,5],[10,11,12,13,14]])\n",
        "print(arr2_id)\n"
      ],
      "metadata": {
        "colab": {
          "base_uri": "https://localhost:8080/"
        },
        "id": "_GJV2BOuvvei",
        "outputId": "2b681a9e-eb6e-4f17-e0cf-0d0db8f59bbb"
      },
      "execution_count": null,
      "outputs": [
        {
          "output_type": "stream",
          "name": "stdout",
          "text": [
            "[[ 1  2  3  4  5]\n",
            " [10 11 12 13 14]]\n"
          ]
        }
      ]
    },
    {
      "cell_type": "code",
      "source": [
        "# diffrence between numpy and array\n",
        "\n",
        "py_list = [1,2,3]\n",
        "print(\" python list mul \",py_list*2)"
      ],
      "metadata": {
        "colab": {
          "base_uri": "https://localhost:8080/"
        },
        "id": "9BWBDKHov3Vg",
        "outputId": "aa3ebd17-1f6f-423d-b53f-935393bf1715"
      },
      "execution_count": null,
      "outputs": [
        {
          "output_type": "stream",
          "name": "stdout",
          "text": [
            " python list mul  [1, 2, 3, 1, 2, 3]\n"
          ]
        }
      ]
    },
    {
      "cell_type": "code",
      "source": [
        "np_array=np.array([1,2,3])\n",
        "print(\"numpy array mul\",np_array*2)\n",
        "#element wise mul"
      ],
      "metadata": {
        "colab": {
          "base_uri": "https://localhost:8080/"
        },
        "id": "LfXMBNWJ8kvf",
        "outputId": "a0ea873e-34bf-43aa-b15f-ac1ea6726347"
      },
      "execution_count": null,
      "outputs": [
        {
          "output_type": "stream",
          "name": "stdout",
          "text": [
            "numpy array mul [2 4 6]\n"
          ]
        }
      ]
    },
    {
      "cell_type": "code",
      "source": [
        "##creating array form scratch\n",
        "zeros=np.zeros((3,4))\n",
        "print(zeros)"
      ],
      "metadata": {
        "colab": {
          "base_uri": "https://localhost:8080/"
        },
        "id": "HbYgy6lq9Anr",
        "outputId": "e1f62c5d-f63b-42f9-c644-49b502a3f772"
      },
      "execution_count": null,
      "outputs": [
        {
          "output_type": "stream",
          "name": "stdout",
          "text": [
            "[[0. 0. 0. 0.]\n",
            " [0. 0. 0. 0.]\n",
            " [0. 0. 0. 0.]]\n"
          ]
        }
      ]
    },
    {
      "cell_type": "code",
      "source": [
        "ones=np.ones((5,5))\n",
        "print(ones)"
      ],
      "metadata": {
        "colab": {
          "base_uri": "https://localhost:8080/"
        },
        "id": "mc807OJB-W5c",
        "outputId": "97e7344d-dfdb-4bdf-f452-f9861a2c1b0b"
      },
      "execution_count": null,
      "outputs": [
        {
          "output_type": "stream",
          "name": "stdout",
          "text": [
            "[[1. 1. 1. 1. 1.]\n",
            " [1. 1. 1. 1. 1.]\n",
            " [1. 1. 1. 1. 1.]\n",
            " [1. 1. 1. 1. 1.]\n",
            " [1. 1. 1. 1. 1.]]\n"
          ]
        }
      ]
    },
    {
      "cell_type": "code",
      "source": [
        "full = np.full((2,2),7)\n",
        "print(full)"
      ],
      "metadata": {
        "colab": {
          "base_uri": "https://localhost:8080/"
        },
        "id": "qO84IQea-kJJ",
        "outputId": "529cc3c9-6265-4517-959c-cdc6086bb9b9"
      },
      "execution_count": null,
      "outputs": [
        {
          "output_type": "stream",
          "name": "stdout",
          "text": [
            "[[7 7]\n",
            " [7 7]]\n"
          ]
        }
      ]
    },
    {
      "cell_type": "code",
      "source": [
        "random = np.random.random((2,3))\n",
        "print(random)"
      ],
      "metadata": {
        "colab": {
          "base_uri": "https://localhost:8080/"
        },
        "id": "YZT7xeJg-ybI",
        "outputId": "fd9f203b-6be5-4c6e-df35-932448ff32e5"
      },
      "execution_count": null,
      "outputs": [
        {
          "output_type": "stream",
          "name": "stdout",
          "text": [
            "[[0.74113595 0.4914626  0.55669684]\n",
            " [0.49403613 0.6175861  0.7161388 ]]\n"
          ]
        }
      ]
    },
    {
      "cell_type": "code",
      "source": [
        "sequence = np.arange(0,30,2)\n",
        "print(sequence)"
      ],
      "metadata": {
        "colab": {
          "base_uri": "https://localhost:8080/"
        },
        "id": "OU7nLGUz_BNf",
        "outputId": "7d063d12-2ecb-4315-bec9-fa1047c5d42f"
      },
      "execution_count": null,
      "outputs": [
        {
          "output_type": "stream",
          "name": "stdout",
          "text": [
            "[ 0  2  4  6  8 10 12 14 16 18 20 22 24 26 28]\n"
          ]
        }
      ]
    },
    {
      "cell_type": "code",
      "source": [
        "##vector, Matrix and Tensor\n",
        "vector=np.array([1,2,3])\n",
        "print(\"vector\",vector)"
      ],
      "metadata": {
        "colab": {
          "base_uri": "https://localhost:8080/"
        },
        "id": "UbazAueh_SkV",
        "outputId": "b2409f57-c9e8-4251-f2d8-15e3d96b963a"
      },
      "execution_count": null,
      "outputs": [
        {
          "output_type": "stream",
          "name": "stdout",
          "text": [
            "vector [1 2 3]\n"
          ]
        }
      ]
    },
    {
      "cell_type": "code",
      "source": [
        "matrix = np. array([[1,2,3],[4,5,6]])\n",
        "print(matrix)"
      ],
      "metadata": {
        "colab": {
          "base_uri": "https://localhost:8080/"
        },
        "id": "ngnrp4tF_wJr",
        "outputId": "8c3411e0-6294-4c7b-bb41-72b63af9cde1"
      },
      "execution_count": null,
      "outputs": [
        {
          "output_type": "stream",
          "name": "stdout",
          "text": [
            "[[1 2 3]\n",
            " [4 5 6]]\n"
          ]
        }
      ]
    },
    {
      "cell_type": "code",
      "source": [
        "tensor = np.array([[[1,2],[4,5]],[[5,6],[7,8]]])\n",
        "print(tensor)"
      ],
      "metadata": {
        "colab": {
          "base_uri": "https://localhost:8080/"
        },
        "id": "Ymv-1kvyAAV6",
        "outputId": "0ee255a1-34ea-492b-9bee-3ece12e6d4c9"
      },
      "execution_count": null,
      "outputs": [
        {
          "output_type": "stream",
          "name": "stdout",
          "text": [
            "[[[1 2]\n",
            "  [4 5]]\n",
            "\n",
            " [[5 6]\n",
            "  [7 8]]]\n"
          ]
        }
      ]
    },
    {
      "cell_type": "code",
      "source": [
        "## array properties\n",
        "\n",
        "arr = np.array([[1,2,3],[4,5,6]])\n",
        "print(arr)\n",
        "\n",
        "print(\"shape \",arr.shape)\n",
        "print(\"Dimention \",arr.ndim)\n",
        "print(\"size \",arr.size)\n",
        "print(\"dtype \",arr.dtype)"
      ],
      "metadata": {
        "colab": {
          "base_uri": "https://localhost:8080/"
        },
        "id": "Ew5wSZ8PAZHf",
        "outputId": "46d5f620-1328-47e1-a69b-910ea73f84bd"
      },
      "execution_count": null,
      "outputs": [
        {
          "output_type": "stream",
          "name": "stdout",
          "text": [
            "[[1 2 3]\n",
            " [4 5 6]]\n",
            "shape  (2, 3)\n",
            "Dimention  2\n",
            "size  6\n",
            "dtype  int64\n"
          ]
        }
      ]
    },
    {
      "cell_type": "code",
      "source": [
        "#array reshapinh\n",
        "arr=np.arange(12)\n",
        "print(\"Original array \",arr)\n",
        "reshaped = arr.reshape(3,4)\n",
        "print(\"reshapinhg the array \",reshaped)\n",
        "\n",
        "print(\"falttened \")\n",
        "flattened = reshaped.flatten()\n",
        "print(flattened)\n",
        "\n",
        "reveled = reshaped.ravel()\n",
        "print(\"reveled returns view instead of copy means original is unchanges unlike flattened \",reveled)\n",
        "\n",
        "transpose=reshaped.T\n",
        "print(\"transposed array  \",transpose)"
      ],
      "metadata": {
        "colab": {
          "base_uri": "https://localhost:8080/"
        },
        "id": "1Fe_HEemA3YN",
        "outputId": "1a9341d2-469a-409f-8ffb-ceba4f2ae933"
      },
      "execution_count": null,
      "outputs": [
        {
          "output_type": "stream",
          "name": "stdout",
          "text": [
            "Original array  [ 0  1  2  3  4  5  6  7  8  9 10 11]\n",
            "reshapinhg the array  [[ 0  1  2  3]\n",
            " [ 4  5  6  7]\n",
            " [ 8  9 10 11]]\n",
            "falttened \n",
            "[ 0  1  2  3  4  5  6  7  8  9 10 11]\n",
            "reveled returns view instead of copy means original is unchanges unlike flattened  [ 0  1  2  3  4  5  6  7  8  9 10 11]\n",
            "transposed array   [[ 0  4  8]\n",
            " [ 1  5  9]\n",
            " [ 2  6 10]\n",
            " [ 3  7 11]]\n"
          ]
        }
      ]
    },
    {
      "cell_type": "markdown",
      "source": [],
      "metadata": {
        "id": "vkYSB4P2DUsh"
      }
    },
    {
      "cell_type": "markdown",
      "source": [
        "**NUMPY phase 2 (numpy array operations) **"
      ],
      "metadata": {
        "id": "mnhr8eU1DWp4"
      }
    },
    {
      "cell_type": "code",
      "source": [
        "import numpy as np\n",
        "\n",
        "#indexing and slicing\n",
        "\n",
        "arr = np.array([1,2,3,4,5])\n",
        "print( \" Baic slicing \",arr[1:4])\n",
        "\n",
        "print( \" Baic slicing with step\",arr[0:4:2])\n",
        "\n",
        "print(\" Negative indexing \",arr[-2])"
      ],
      "metadata": {
        "colab": {
          "base_uri": "https://localhost:8080/"
        },
        "id": "r8NhsQtDCzub",
        "outputId": "fe2e3d97-97f2-468c-bf04-59505f0c83a3"
      },
      "execution_count": null,
      "outputs": [
        {
          "output_type": "stream",
          "name": "stdout",
          "text": [
            " Baic slicing  [2 3 4]\n",
            " Baic slicing with step [1 3]\n",
            " Negative indexing  4\n"
          ]
        }
      ]
    },
    {
      "cell_type": "markdown",
      "source": [
        "**Now will do slicing for 2d array**"
      ],
      "metadata": {
        "id": "eXi5kbTLE8AA"
      }
    },
    {
      "cell_type": "code",
      "source": [
        "arra_2d = np.array([[1,2,3],[4,5,6],[7,8,9,]])\n",
        "print(\"Specific element \",arra_2d[1,2])\n",
        "print(\" entire row \",arra_2d[1])\n",
        "print(\" entire col \",arra_2d[:,1])"
      ],
      "metadata": {
        "colab": {
          "base_uri": "https://localhost:8080/"
        },
        "id": "gMvlnHdsEXFz",
        "outputId": "eeca9bbf-4aef-45ba-c4fc-7febd944d193"
      },
      "execution_count": null,
      "outputs": [
        {
          "output_type": "stream",
          "name": "stdout",
          "text": [
            "Specific element  6\n",
            " entire row  [4 5 6]\n",
            " entire col  [2 5 8]\n"
          ]
        }
      ]
    },
    {
      "cell_type": "markdown",
      "source": [
        "**SORTING**\n"
      ],
      "metadata": {
        "id": "jcf03kwaF6i7"
      }
    },
    {
      "cell_type": "code",
      "source": [
        "unsorted = np.array([3,1,4,1,5,9,2,6])\n",
        "print(\" Sorted array \",np.sort(unsorted))\n",
        "\n",
        "arr_2d_unsorted = np.array([[3,1],[1,2],[2,3]])\n",
        "print(\"Sorted 2d array by column \",np.sort(arr_2d_unsorted,axis=0))\n",
        "print(\"Sorted 2d array by row \",np.sort(arr_2d_unsorted,axis=1))"
      ],
      "metadata": {
        "colab": {
          "base_uri": "https://localhost:8080/"
        },
        "id": "MlgDwyKEFTXO",
        "outputId": "d00f7571-8f35-405d-bfff-8845a5546fe4"
      },
      "execution_count": null,
      "outputs": [
        {
          "output_type": "stream",
          "name": "stdout",
          "text": [
            " Sorted array  [1 1 2 3 4 5 6 9]\n",
            "Sorted 2d array by column  [[1 1]\n",
            " [2 2]\n",
            " [3 3]]\n",
            "Sorted 2d array by row  [[1 3]\n",
            " [1 2]\n",
            " [2 3]]\n"
          ]
        }
      ]
    },
    {
      "cell_type": "code",
      "source": [
        "numbers= np.array([1,2,3,4,5,6,7,8,9,10])\n",
        "even_number = numbers[numbers%2==0]\n",
        "print(\"even numbers \",even_number)"
      ],
      "metadata": {
        "colab": {
          "base_uri": "https://localhost:8080/"
        },
        "id": "vGxsZG_AFowc",
        "outputId": "456753be-ad50-4dc9-b8b1-ee8c49dce58e"
      },
      "execution_count": null,
      "outputs": [
        {
          "output_type": "stream",
          "name": "stdout",
          "text": [
            "even numbers  [ 2  4  6  8 10]\n"
          ]
        }
      ]
    },
    {
      "cell_type": "markdown",
      "source": [
        "**Filters with mask**"
      ],
      "metadata": {
        "id": "nLTsEgT9KXxn"
      }
    },
    {
      "cell_type": "code",
      "source": [
        "mask=numbers>5\n",
        "print(\"numbers greater than 5 \",numbers[mask])\n",
        "\n"
      ],
      "metadata": {
        "colab": {
          "base_uri": "https://localhost:8080/"
        },
        "id": "r1TM6Pg3IRAR",
        "outputId": "79f5abca-2810-4700-95b3-71edf58a5a08"
      },
      "execution_count": null,
      "outputs": [
        {
          "output_type": "stream",
          "name": "stdout",
          "text": [
            "numbers greater than 5 [ 6  7  8  9 10]\n"
          ]
        }
      ]
    },
    {
      "cell_type": "markdown",
      "source": [
        "**fancy indexing vs np.where()**"
      ],
      "metadata": {
        "id": "tB3Q2pe-Ks7l"
      }
    },
    {
      "cell_type": "code",
      "source": [
        "indices=[0,2,4]\n",
        "print(numbers[indices])\n",
        "\n",
        "where_result = np.where(numbers>5)\n",
        "print(\"where result \",where_result)\n",
        "print(\" result \",numbers[where_result])\n"
      ],
      "metadata": {
        "colab": {
          "base_uri": "https://localhost:8080/"
        },
        "id": "2xJfpZ3PKiy2",
        "outputId": "bdcbd551-9099-4a45-9529-4ef2e1f36323"
      },
      "execution_count": null,
      "outputs": [
        {
          "output_type": "stream",
          "name": "stdout",
          "text": [
            "[1 3 5]\n",
            "where result  (array([5, 6, 7, 8, 9]),)\n",
            " result  [ 6  7  8  9 10]\n"
          ]
        }
      ]
    },
    {
      "cell_type": "code",
      "source": [
        "condition_array = np.where(numbers>5,numbers*2,numbers)\n",
        "print(condition_array)"
      ],
      "metadata": {
        "colab": {
          "base_uri": "https://localhost:8080/"
        },
        "id": "Pxq91_jcK3z1",
        "outputId": "dffa09af-af6a-4e0b-eed7-50bd4190b2fc"
      },
      "execution_count": null,
      "outputs": [
        {
          "output_type": "stream",
          "name": "stdout",
          "text": [
            "[ 1  2  3  4  5 12 14 16 18 20]\n"
          ]
        }
      ]
    },
    {
      "cell_type": "markdown",
      "source": [
        "**Adding and removing data**"
      ],
      "metadata": {
        "id": "cxUrXY7jlizK"
      }
    },
    {
      "cell_type": "code",
      "source": [
        "arr1 =  np.array([1,2,3])\n",
        "arr2 = np.array([4,5,6])\n",
        "print(\"Concatenated array \",np.concatenate((arr1,arr2)))"
      ],
      "metadata": {
        "colab": {
          "base_uri": "https://localhost:8080/"
        },
        "id": "p8UuZdyjL1W5",
        "outputId": "641d7eab-4043-4236-ccc7-c7d9b158ee6f"
      },
      "execution_count": null,
      "outputs": [
        {
          "output_type": "stream",
          "name": "stdout",
          "text": [
            "Concatenated array  [1 2 3 4 5 6]\n"
          ]
        }
      ]
    },
    {
      "cell_type": "code",
      "source": [
        "### array compatibility\n",
        "\n",
        "a = np.array([1,2,3])\n",
        "b=np.array([4,5,6])\n",
        "c=np.array([7,8,9])\n",
        "\n",
        "print(\"Compatibility shapes \",a.shape==b.shape)\n",
        "\n",
        "original = np.array()\n",
        "\n"
      ],
      "metadata": {
        "colab": {
          "base_uri": "https://localhost:8080/"
        },
        "id": "Fo5VpYwbl6zx",
        "outputId": "75ea2cff-05fe-4f85-8df7-bc1c95913431"
      },
      "execution_count": null,
      "outputs": [
        {
          "output_type": "stream",
          "name": "stdout",
          "text": [
            "Compatibility shapes  True\n"
          ]
        }
      ]
    },
    {
      "cell_type": "code",
      "source": [
        "original  = np.array([[1,2],[3,4]])\n",
        "new_row = np.array( [5,6])\n",
        "\n",
        "with_new_row=np.vstack((original,new_row)) # vstack adds row\n",
        "print(original)\n",
        "print(with_new_row)"
      ],
      "metadata": {
        "colab": {
          "base_uri": "https://localhost:8080/"
        },
        "id": "LKu9RJZDmZMZ",
        "outputId": "a07c0382-f30f-405c-a08b-25396bfe2d71"
      },
      "execution_count": null,
      "outputs": [
        {
          "output_type": "stream",
          "name": "stdout",
          "text": [
            "[[1 2]\n",
            " [3 4]]\n",
            "[[1 2]\n",
            " [3 4]\n",
            " [5 6]]\n"
          ]
        }
      ]
    },
    {
      "cell_type": "code",
      "source": [
        "new_col=[[7],[8]]\n",
        "with_new_col=np.hstack((original,new_col))\n",
        "print(\" With new column \",with_new_col)\n",
        "\n",
        "arr=np.array([1,2,3,4,5])\n",
        "print(arr)"
      ],
      "metadata": {
        "colab": {
          "base_uri": "https://localhost:8080/"
        },
        "id": "aEqkHAeGpyFo",
        "outputId": "6d6dd06c-c26f-4220-97d5-087fe49ca2ae"
      },
      "execution_count": null,
      "outputs": [
        {
          "output_type": "stream",
          "name": "stdout",
          "text": [
            " With new column  [[1 2 7]\n",
            " [3 4 8]]\n",
            "[1 2 3 4 5]\n"
          ]
        }
      ]
    },
    {
      "cell_type": "code",
      "source": [
        "arr= np.array([1,2,3,4,5])\n",
        "deleted =  np.delete(arr,2)\n",
        "print(deleted)"
      ],
      "metadata": {
        "colab": {
          "base_uri": "https://localhost:8080/"
        },
        "id": "A5uhI_Muq8Te",
        "outputId": "518fcad7-3f6f-4020-cb3a-4d8d6158525e"
      },
      "execution_count": null,
      "outputs": [
        {
          "output_type": "stream",
          "name": "stdout",
          "text": [
            "[1 2 4 5]\n"
          ]
        }
      ]
    },
    {
      "cell_type": "code",
      "source": [
        "sales_data = np.array([\n",
        "                          [1,150000,180000,220000,250000], #paradise Biryani\n",
        "                          [2,120000,140000,160000,190000],  #Beijing Bites\n",
        "                          [3,200000,230000,260000,300000] , #Pizza Hub\n",
        "                          [4,180000,210000,240000,270000],  # Burger Point\n",
        "                          [5,160000,185000,205000,230000]   #Chai Point\n",
        "\n",
        "                       ])\n",
        "\n",
        "print(sales_data)\n",
        "\n"
      ],
      "metadata": {
        "colab": {
          "base_uri": "https://localhost:8080/"
        },
        "id": "K9J2462UrOYd",
        "outputId": "962fdd07-5429-4d97-e367-cd8910857d23"
      },
      "execution_count": 4,
      "outputs": [
        {
          "output_type": "stream",
          "name": "stdout",
          "text": [
            "[[     1 150000 180000 220000 250000]\n",
            " [     2 120000 140000 160000 190000]\n",
            " [     3 200000 230000 260000 300000]\n",
            " [     4 180000 210000 240000 270000]\n",
            " [     5 160000 185000 205000 230000]]\n"
          ]
        }
      ]
    },
    {
      "cell_type": "code",
      "source": [
        "import matplotlib.pyplot as plt\n",
        "\n",
        "print(\"=== Zomato sales analysys === \")\n",
        "print(\"\\n Sales data shape \",sales_data.shape)\n",
        "\n",
        "print(\"\\n sample data for first three restaurant: \",sales_data[:3,:])"
      ],
      "metadata": {
        "id": "ypLMqfFbwtqj",
        "colab": {
          "base_uri": "https://localhost:8080/"
        },
        "outputId": "f7a57cb5-485c-4aed-8e16-267734e900f9"
      },
      "execution_count": 8,
      "outputs": [
        {
          "output_type": "stream",
          "name": "stdout",
          "text": [
            "=== Zomato sales analysys === \n",
            "\n",
            " Sales data shape  (5, 5)\n",
            "\n",
            " sample data for first three restaurant:  [[     1 150000 180000 220000 250000]\n",
            " [     2 120000 140000 160000 190000]\n",
            " [     3 200000 230000 260000 300000]]\n"
          ]
        }
      ]
    },
    {
      "cell_type": "code",
      "source": [
        "#Total sales per year\n",
        "\n",
        "print(\"Total sales per year \",np.sum(sales_data,axis=0))\n",
        "yearly_total=np.sum(sales_data[:,1:],axis=0)\n",
        "print(\"Yearly total sales \",yearly_total)\n",
        "\n",
        "final_yearly_toal=np.sum(yearly_total)\n",
        "print(\"Final yearly total \",final_yearly_toal)"
      ],
      "metadata": {
        "id": "D4Esbah6xdrI",
        "colab": {
          "base_uri": "https://localhost:8080/"
        },
        "outputId": "ee5a5545-fdb6-447c-bb7a-a792e93a22c9"
      },
      "execution_count": 20,
      "outputs": [
        {
          "output_type": "stream",
          "name": "stdout",
          "text": [
            "Total sales per year  [     15  810000  945000 1085000 1240000]\n",
            "Yearly total sales  [ 810000  945000 1085000 1240000]\n",
            "Final yearly total  4080000\n"
          ]
        }
      ]
    },
    {
      "cell_type": "code",
      "source": [
        "#minimum sales per restrunt\n",
        "\n",
        "print(\"Minimum sales per year \",np.min(sales_data[:,1:],axis=1))"
      ],
      "metadata": {
        "colab": {
          "base_uri": "https://localhost:8080/"
        },
        "id": "_NPSXLBzzSuY",
        "outputId": "75a583ef-edda-4dc7-d406-b288ec560438"
      },
      "execution_count": 24,
      "outputs": [
        {
          "output_type": "stream",
          "name": "stdout",
          "text": [
            "Minimum sales per year  [150000 120000 200000 180000 160000]\n"
          ]
        }
      ]
    },
    {
      "cell_type": "code",
      "source": [
        "\n",
        "\n",
        "#maximum sales per year\n",
        "print(\"Maximum sales per year \",np.max(sales_data[:,1:],axis=0))"
      ],
      "metadata": {
        "colab": {
          "base_uri": "https://localhost:8080/"
        },
        "id": "PIVkSwuc0SR0",
        "outputId": "39c81c6c-c158-4c1e-bc8d-e8a1a63b6454"
      },
      "execution_count": 26,
      "outputs": [
        {
          "output_type": "stream",
          "name": "stdout",
          "text": [
            "Maximum sales per year  [200000 230000 260000 300000]\n"
          ]
        }
      ]
    },
    {
      "cell_type": "code",
      "source": [
        "#Average sales per restourant\n",
        "\n",
        "average_sales = np.mean(sales_data[:,1:],axis=1)\n",
        "print(\"Average sales per restourant \",average_sales)\n",
        "\n",
        "cumsum=np.cumsum(sales_data[:,1:],axis=1)\n",
        "print(\"Cumulative sum \",cumsum)\n",
        "\n"
      ],
      "metadata": {
        "colab": {
          "base_uri": "https://localhost:8080/"
        },
        "id": "wLl4uJvd5xW9",
        "outputId": "fadc7668-ea92-42ac-9eaa-c17305efe39c"
      },
      "execution_count": 48,
      "outputs": [
        {
          "output_type": "stream",
          "name": "stdout",
          "text": [
            "Average sales per restourant  [200000. 152500. 247500. 225000. 195000.]\n",
            "Cumulative sum  [[150000 330000 550000 800000]\n",
            " [120000 260000 420000 610000]\n",
            " [200000 430000 690000 990000]\n",
            " [180000 390000 630000 900000]\n",
            " [160000 345000 550000 780000]]\n",
            "[162000. 351000. 568000. 816000.]\n"
          ]
        }
      ]
    },
    {
      "cell_type": "code",
      "source": [
        "\n",
        "plt.figure(figsize=(10,6))\n",
        "plt.plot(np.mean(cumsum,axis=0))\n",
        "plt.title(\"Average cumulative sales acros all restaurants\")\n",
        "plt.xlabel(\"Year\")\n",
        "plt.ylabel(\"Sales\")\n",
        "plt.show()\n"
      ],
      "metadata": {
        "colab": {
          "base_uri": "https://localhost:8080/",
          "height": 564
        },
        "id": "2laHlxQW6L1K",
        "outputId": "c4a350d3-5e79-4ad0-e767-0338f825de09"
      },
      "execution_count": 51,
      "outputs": [
        {
          "output_type": "display_data",
          "data": {
            "text/plain": [
              "<Figure size 1000x600 with 1 Axes>"
            ],
            "image/png": "[encoded data removed]"
          },
          "metadata": {}
        }
      ]
    },
    {
      "cell_type": "code",
      "source": [
        "vector1 = np.array([1, 2, 3, 4, 5])\n",
        "vector2 = np.array([6, 7, 8, 9, 10])\n",
        "\n",
        "print(\"Vector addition: \", vector1 + vector2)\n",
        "\n",
        "print(\"\\n Multiplication vector\", vector1 * vector2)\n",
        "\n",
        "print(\"\\nDot Product\", np.dot(vector1, vector2))\n",
        "\n",
        "angle = np.arccos(np.dot(vector1, vector2) / (np.linalg.norm(vector1) * np.linalg.norm(vector2)))\n",
        "print(angle)"
      ],
      "metadata": {
        "colab": {
          "base_uri": "https://localhost:8080/"
        },
        "id": "QeWZNcfq64Cx",
        "outputId": "e8bfa25f-6a6e-482f-a87d-6fb2f4c773ec"
      },
      "execution_count": 52,
      "outputs": [
        {
          "output_type": "stream",
          "name": "stdout",
          "text": [
            "Vector addition:  [ 7  9 11 13 15]\n",
            "\n",
            " Multiplication vector [ 6 14 24 36 50]\n",
            "\n",
            "Dot Product 130\n",
            "0.26554161733900966\n"
          ]
        }
      ]
    },
    {
      "cell_type": "code",
      "source": [
        "\n",
        "\n",
        "restaurant_types = np.array(['biryani', 'chinese', 'pizza', 'burger', 'cafe'])\n",
        "vectorized_upper = np.vectorize(str.upper)\n",
        "print(\"Vectorized Upper\", vectorized_upper(restaurant_types))\n",
        "\n"
      ],
      "metadata": {
        "colab": {
          "base_uri": "https://localhost:8080/"
        },
        "id": "NcByxA6kJEt8",
        "outputId": "b0484d59-0304-4d1d-cf56-7647b77ecb89"
      },
      "execution_count": 53,
      "outputs": [
        {
          "output_type": "stream",
          "name": "stdout",
          "text": [
            "Vectorized Upper ['BIRYANI' 'CHINESE' 'PIZZA' 'BURGER' 'CAFE']\n"
          ]
        }
      ]
    },
    {
      "cell_type": "code",
      "source": [
        "restaurant_types2 = np.array(['BIRYANI', 'CHINESE', 'PIZZA', 'BURGER', 'CAFE','PANIPURI'])\n",
        "vect_lower=np.vectorize(str.lower)\n",
        "print(\"Vectorized Upper\", vect_lower(restaurant_types2))\n"
      ],
      "metadata": {
        "colab": {
          "base_uri": "https://localhost:8080/"
        },
        "id": "s9tdQK7pbfKn",
        "outputId": "c35630a5-c62a-4930-f3d8-632882d92290"
      },
      "execution_count": 59,
      "outputs": [
        {
          "output_type": "stream",
          "name": "stdout",
          "text": [
            "Vectorized Upper ['biryani' 'chinese' 'pizza' 'burger' 'cafe' 'panipuri']\n"
          ]
        }
      ]
    },
    {
      "cell_type": "code",
      "source": [
        "monthly_avg = sales_data[:, 1:] / 12\n",
        "\n",
        "print(monthly_avg)"
      ],
      "metadata": {
        "colab": {
          "base_uri": "https://localhost:8080/"
        },
        "id": "acuijPWocJuA",
        "outputId": "266b0f32-8585-41a2-a442-efd85a968e89"
      },
      "execution_count": 60,
      "outputs": [
        {
          "output_type": "stream",
          "name": "stdout",
          "text": [
            "[[12500.         15000.         18333.33333333 20833.33333333]\n",
            " [10000.         11666.66666667 13333.33333333 15833.33333333]\n",
            " [16666.66666667 19166.66666667 21666.66666667 25000.        ]\n",
            " [15000.         17500.         20000.         22500.        ]\n",
            " [13333.33333333 15416.66666667 17083.33333333 19166.66666667]]\n"
          ]
        }
      ]
    },
    {
      "cell_type": "code",
      "source": [
        "array1 = np.array([[1, 2, 3], [4, 5, 6]])\n",
        "array2 = np.random.rand(3, 3)\n",
        "array3 = np.zeros((4, 4))"
      ],
      "metadata": {
        "id": "Qqyp7oUddPM8"
      },
      "execution_count": 61,
      "outputs": []
    },
    {
      "cell_type": "code",
      "source": [
        "\n",
        "\n",
        "np.save('array1.npy', array1)\n",
        "np.save('array2.npy', array2)\n",
        "np.save('array3.npy', array3)\n",
        "\n"
      ],
      "metadata": {
        "id": "CJihdMsRjpPH"
      },
      "execution_count": 62,
      "outputs": []
    },
    {
      "cell_type": "code",
      "source": [
        "loaded_array1 = np.load('array1.npy')\n",
        "print(loaded_array1)"
      ],
      "metadata": {
        "colab": {
          "base_uri": "https://localhost:8080/"
        },
        "id": "J330jCqmjrjc",
        "outputId": "c9c0aaf1-9b14-430a-def8-4f9e30a8aace"
      },
      "execution_count": 63,
      "outputs": [
        {
          "output_type": "stream",
          "name": "stdout",
          "text": [
            "[[1 2 3]\n",
            " [4 5 6]]\n"
          ]
        }
      ]
    },
    {
      "cell_type": "code",
      "source": [
        "try:\n",
        "    logo = np.load('numpy-logo.npy')\n",
        "\n",
        "    # Display\n",
        "    plt.figure(figsize=(10, 5))\n",
        "    plt.subplot(121)\n",
        "    plt.imshow(logo)\n",
        "    plt.title(\"Numpy logo\")\n",
        "    plt.grid(False)\n",
        "\n",
        "    dark_logo = 1 - logo\n",
        "\n",
        "    plt.subplot(122)\n",
        "    plt.imshow(dark_logo)\n",
        "    plt.title(\"Numpy Dark logo\")\n",
        "    plt.grid(False)\n",
        "\n",
        "except FileNotFoundError:\n",
        "    print(\"numpy logo file not found\")"
      ],
      "metadata": {
        "colab": {
          "base_uri": "https://localhost:8080/",
          "height": 435
        },
        "id": "W_3mcRIsjuX2",
        "outputId": "3bec70f5-332a-488d-9637-5f91adce5ad6"
      },
      "execution_count": 65,
      "outputs": [
        {
          "output_type": "display_data",
          "data": {
            "text/plain": [
              "<Figure size 1000x500 with 2 Axes>"
            ],
            "image/png": "[encoded data removed]"
          },
          "metadata": {}
        }
      ]
    },
    {
      "cell_type": "code",
      "source": [],
      "metadata": {
        "id": "umIPumt6jwzV"
      },
      "execution_count": null,
      "outputs": []
    }
  ]
}